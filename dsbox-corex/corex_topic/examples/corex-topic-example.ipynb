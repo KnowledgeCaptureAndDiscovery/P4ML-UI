{
 "metadata": {
  "name": "",
  "signature": "sha256:557939242e90e1cb62b5c2ecc8ebfa9c081fb86c98191915101f6b1b20210a53"
 },
 "nbformat": 3,
 "nbformat_minor": 0,
 "worksheets": [
  {
   "cells": [
    {
     "cell_type": "heading",
     "level": 1,
     "metadata": {},
     "source": [
      "Anchored CorEx: Topic Modeling with Minimal Domain Knowledge"
     ]
    },
    {
     "cell_type": "markdown",
     "metadata": {},
     "source": [
      "**Author:** [Ryan J. Gallagher](http://ryanjgallagher.github.io/), 07/07/2017"
     ]
    },
    {
     "cell_type": "markdown",
     "metadata": {},
     "source": [
      "This notebook walks through how to use the CorEx topic model code. This includes fitting CorEx to your data, examining the topic model output, outputting results, building a hierarchical topic model, and anchoring words to topics. It is assumed that corex_topic.py and vis_topic.py are in your working directory, and that you have numpy, scipy, and scikit-learn installed. \n",
      "\n",
      "Details of the CorEx topic model and evaluations against unsupervised and semi-supervised variants of LDA can be found in our paper:\n",
      "\n",
      "[*Anchored Correlation Explanation: Topic Modeling with Minimal Domain Knowledge*](https://arxiv.org/abs/1611.10277), Gallagher et al., preprint 2017."
     ]
    },
    {
     "cell_type": "code",
     "collapsed": false,
     "input": [
      "import numpy as np\n",
      "import vis_topic as vt\n",
      "import corex_topic as ct\n",
      "import scipy.sparse as ss\n",
      "import matplotlib.pyplot as plt\n",
      "\n",
      "from sklearn.datasets import fetch_20newsgroups\n",
      "from sklearn.feature_extraction.text import CountVectorizer"
     ],
     "language": "python",
     "metadata": {},
     "outputs": [],
     "prompt_number": 2
    },
    {
     "cell_type": "heading",
     "level": 2,
     "metadata": {},
     "source": [
      "Loading the 20 Newsgroups Dataset"
     ]
    },
    {
     "cell_type": "markdown",
     "metadata": {},
     "source": [
      "We need to first load data to run the CorEx topic model. We'll use the 20 Newsgroups dataset, which scikit-learn provides functionality to access."
     ]
    },
    {
     "cell_type": "code",
     "collapsed": false,
     "input": [
      "# Get 20 newsgroups data\n",
      "newsgroups = fetch_20newsgroups(subset='train', remove=('headers', 'footers', 'quotes'))"
     ],
     "language": "python",
     "metadata": {},
     "outputs": [],
     "prompt_number": 3
    },
    {
     "cell_type": "markdown",
     "metadata": {},
     "source": [
      "The topic model assumes input is in the form of a doc-word matrix, where rows are documents and columns are binary counts. We'll vectorize the newsgroups data, take the top 20,000 words, and convert it to a sparse matrix to save on memory usage. Note, we use binary count vectors as input to the CorEx topic model."
     ]
    },
    {
     "cell_type": "code",
     "collapsed": false,
     "input": [
      "# Transform 20 newsgroup data into a sparse matrix\n",
      "vectorizer = CountVectorizer(stop_words='english', max_features = 20000, binary = True)\n",
      "doc_word = vectorizer.fit_transform(newsgroups.data)\n",
      "doc_word = ss.csr_matrix(doc_word)\n",
      "\n",
      "doc_word.shape # n_docs x m_words"
     ],
     "language": "python",
     "metadata": {},
     "outputs": [
      {
       "metadata": {},
       "output_type": "pyout",
       "prompt_number": 4,
       "text": [
        "(11314, 20000)"
       ]
      }
     ],
     "prompt_number": 4
    },
    {
     "cell_type": "markdown",
     "metadata": {},
     "source": [
      "Our doc-word matrix is 11,314 documents by 20,000 words. Let's get the words that label the columns. We'll need these for outputting readable topics and later for anchoring."
     ]
    },
    {
     "cell_type": "code",
     "collapsed": false,
     "input": [
      "# Get words that label the columns (needed to extract readable topics and make anchoring easier)\n",
      "words = list(np.asarray(vectorizer.get_feature_names()))"
     ],
     "language": "python",
     "metadata": {},
     "outputs": [],
     "prompt_number": 5
    },
    {
     "cell_type": "markdown",
     "metadata": {},
     "source": [
      "We'll do a final step of preprocessing where we remove all integers from our set of words. This brings is down to 19,038 words."
     ]
    },
    {
     "cell_type": "code",
     "collapsed": false,
     "input": [
      "not_digit_inds = [ind for ind,word in enumerate(words) if not word.isdigit()]\n",
      "doc_word = doc_word[:,not_digit_inds]\n",
      "words    = [word for ind,word in enumerate(words) if not word.isdigit()]\n",
      "\n",
      "doc_word.shape # n_docs x m_words"
     ],
     "language": "python",
     "metadata": {},
     "outputs": [
      {
       "metadata": {},
       "output_type": "pyout",
       "prompt_number": 6,
       "text": [
        "(11314, 19038)"
       ]
      }
     ],
     "prompt_number": 6
    },
    {
     "cell_type": "heading",
     "level": 2,
     "metadata": {},
     "source": [
      "CorEx Topic Model"
     ]
    },
    {
     "cell_type": "markdown",
     "metadata": {},
     "source": [
      "The main paramters of the CorEx topic model are:\n",
      "+ **n_hidden**: number of topics (\"hidden\" as in \"hidden latent topics\")\n",
      "+ **words**: words that label the columns of the doc-word matrix (optional)\n",
      "+ **max_iter**: number of iterations to run through the update equations\n",
      "+ **verbose**:  if *verbose=1*, then CorEx will print the topic TCs with each iteration\n",
      "+ **seed**:     random number seed to use for model initialization\n",
      "\n",
      "We'll train a topic model with 50 topics. (This will take a few minutes.)"
     ]
    },
    {
     "cell_type": "code",
     "collapsed": false,
     "input": [
      "# Train the CorEx topic model with 50 topics\n",
      "topic_model = ct.Corex(n_hidden=50, words=words, max_iter=200, verbose=False, seed=None)\n",
      "topic_model.fit(doc_word, words=words);"
     ],
     "language": "python",
     "metadata": {},
     "outputs": [],
     "prompt_number": 7
    },
    {
     "cell_type": "heading",
     "level": 2,
     "metadata": {},
     "source": [
      "CorEx Output"
     ]
    },
    {
     "cell_type": "heading",
     "level": 3,
     "metadata": {},
     "source": [
      "Topics"
     ]
    },
    {
     "cell_type": "markdown",
     "metadata": {},
     "source": [
      "The CorEx topic model provides functionality for easily accessing the topics. Let's take a look one of the topics."
     ]
    },
    {
     "cell_type": "code",
     "collapsed": false,
     "input": [
      "# Print a single topic from CorEx topic model\n",
      "topic_model.get_topics(topic=2, n_words=10)"
     ],
     "language": "python",
     "metadata": {},
     "outputs": [
      {
       "metadata": {},
       "output_type": "pyout",
       "prompt_number": 10,
       "text": [
        "[(u'team', 0.076923542033639589),\n",
        " (u'game', 0.070597907332178161),\n",
        " (u'players', 0.049635998742710227),\n",
        " (u'season', 0.048588199138651741),\n",
        " (u'games', 0.045133991049044066),\n",
        " (u'league', 0.042554543381838159),\n",
        " (u'hockey', 0.042069081701358556),\n",
        " (u'play', 0.04065046908318385),\n",
        " (u'teams', 0.038205134081690545),\n",
        " (u'nhl', 0.030570297127264282)]"
       ]
      }
     ],
     "prompt_number": 10
    },
    {
     "cell_type": "markdown",
     "metadata": {},
     "source": [
      "The topic words are those with the highest *mutual information* with the topic, rather than those with highest probability within the topic as in LDA. The mutual information with the topic is the number reported in each tuple. If the column labels have not been specified through **words**, then the code will return the column indices for the top words in each topic.\n",
      "\n",
      "We can also retrieve all of the topics at once if we would like."
     ]
    },
    {
     "cell_type": "code",
     "collapsed": false,
     "input": [
      "# Print all topics from the CorEx topic model\n",
      "topics = topic_model.get_topics()\n",
      "for n,topic in enumerate(topics):\n",
      "    topic_words,_ = zip(*topic)\n",
      "    print '{}: '.format(n) + ','.join(topic_words)"
     ],
     "language": "python",
     "metadata": {},
     "outputs": [
      {
       "output_type": "stream",
       "stream": "stdout",
       "text": [
        "0: d9,ei,1t,mw,mq,wm,m9,m3,m_,wt\n",
        "1: windows,card,dos,software,pc,files,disk,drive,file,ram\n",
        "2: team,game,players,season,games,league,hockey,play,teams,nhl\n",
        "3: information,including,number,press,published,office,sent,received,include,major\n",
        "4: israel,armenians,armenian,israeli,argic,geb,turkish,chastity,n3jxp,shameful\n",
        "5: way,point,example,real,does,means,far,non,based,reason\n",
        "6: people,law,rights,state,laws,religion,children,crime,religious,society\n",
        "7: god,jesus,christian,christ,christians,bible,church,faith,christianity,jews\n",
        "8: archive,anonymous,modified,pub,various,distributed,distribution,faq,site,obtain\n",
        "9: key,encryption,clipper,keys,public,secure,nsa,security,escrow,encrypted\n",
        "10: hit,smith,dave,red,staff,runs,hitter,ball,base,hr\n",
        "11: government,gun,guns,weapons,police,military,federal,citizens,protect,political\n",
        "12: use,using,work,used,problem,program,set,running,help,problems\n",
        "13: april,washington,york,los,angeles,st,conference,final,ny,pp\n",
        "14: car,bike,cars,engine,miles,road,ride,riding,bikes,ground\n",
        "15: window,server,unix,application,motif,x11r5,mit,sun,display,widget\n",
        "16: edu,university,internet,apr,date,send,com,mail,address,cs\n",
        "17: war,killed,troops,kill,anti,soviet,killing,attack,million,innocent\n",
        "18: national,world,american,international,issue,policy,countries,nation,administration,continue\n",
        "19: human,history,word,existence,book,exist,follow,century,exists,accept\n",
        "20: code,following,note,function,written,functions,create,text,write,created\n",
        "21: general,research,subject,science,form,issues,scientific,related,individual,knowledge\n",
        "22: end,order,questions,later,present,future,provide,short,single,asked\n",
        "23: fact,said,did,life,man,saying,understand,women,taken,agree\n",
        "24: year,years,day,days,night,started,city,san,didn,great\n",
        "25: nasa,launch,orbit,shuttle,mission,satellite,gov,jpl,orbital,solar\n",
        "26: say,right,come,let,doesn,wrong,course,tell,actually,makes\n",
        "27: space,high,large,low,small,power,cost,moon,light,water\n",
        "28: believe,person,true,mean,mind,words,claim,country,live,certainly\n",
        "29: volume,source,document,electronic,operation,pages,remote,programming,features,selected\n",
        "30: united,states,president,congress,term,modern,authors,earth,council,books\n",
        "31: given,important,place,involved,certain,situation,attempt,position,conclusion,clearly\n",
        "32: sale,new,price,condition,offer,shipping,sell,includes,interested,asking\n",
        "33: second,center,left,period,defense,early,young,west,2nd,late\n",
        "34: data,chip,speed,bit,faster,memory,digital,performance,fast,output\n",
        "35: just,think,good,really,probably,little,isn,maybe,big,feel\n",
        "36: long,likely,rest,outside,carry,return,numbers,area,hold,remain\n",
        "37: group,groups,consider,common,article,sources,posting,cases,established,purposes\n",
        "38: medical,disease,doctor,patients,treatment,medicine,health,hospital,doctors,pain\n",
        "39: don,like,time,know,make,things,want,going,thing,look\n",
        "40: evidence,sense,action,body,arguments,described,studies,definition,education,understanding\n",
        "41: better,ve,ll,best,money,got,lot,unless,buy,pretty\n",
        "42: away,finally,open,head,usually,hours,spent,quickly,stay,returned\n",
        "43: went,start,getting,turn,turned,goes,safe,range,couple,results\n",
        "44: having,read,different,trying,try,post,instead,response,hope,exactly\n",
        "45: reference,changes,variety,versions,save,guide,global,style,commands,edge\n",
        "46: cause,msg,foods,allergic,caused,eating,normal,reaction,chinese,flavor\n",
        "47: today,held,local,kept,brought,chief,potential,financial,meetings,technologies\n",
        "48: john,paul,jim,____,___,__,jmd,bobby,_____,tom\n",
        "49: apply,clinton,animals,natural,allowed,business,responsible,practice,humans,stand\n"
       ]
      }
     ],
     "prompt_number": 11
    },
    {
     "cell_type": "markdown",
     "metadata": {},
     "source": [
      "Note, the first topic looks a bit odd, but these characters were used frequently to encode images. The CorEx topic model picks up on these encodings as a topic since they were not cleaned from the data.\n",
      "\n",
      "We can also get the column indices instead of the column labels if necessary"
     ]
    },
    {
     "cell_type": "code",
     "collapsed": false,
     "input": [
      "topic_model.get_topics(topic=5, n_words=10, print_words=False)"
     ],
     "language": "python",
     "metadata": {},
     "outputs": [
      {
       "metadata": {},
       "output_type": "pyout",
       "prompt_number": 12,
       "text": [
        "[(18439, 0.062895169916894436),\n",
        " (13031, 0.057064788895767611),\n",
        " (6156, 0.042499843896452484),\n",
        " (14061, 0.040650963987542428),\n",
        " (5239, 0.040585565048779311),\n",
        " (10704, 0.038090337085622462),\n",
        " (6472, 0.035621105523664411),\n",
        " (11705, 0.034192155984281943),\n",
        " (1798, 0.033973229268166712),\n",
        " (14079, 0.033920394063488103)]"
       ]
      }
     ],
     "prompt_number": 12
    },
    {
     "cell_type": "markdown",
     "metadata": {},
     "source": [
      "If we need to directly access the topic assignments for each word, they can be accessed through **cluster**."
     ]
    },
    {
     "cell_type": "code",
     "collapsed": false,
     "input": [
      "print topic_model.clusters\n",
      "print topic_model.clusters.shape # m_words"
     ],
     "language": "python",
     "metadata": {},
     "outputs": [
      {
       "output_type": "stream",
       "stream": "stdout",
       "text": [
        "[ 0  1 16 ..., 14  0  0]\n",
        "(19038L,)\n"
       ]
      }
     ],
     "prompt_number": 13
    },
    {
     "cell_type": "heading",
     "level": 3,
     "metadata": {},
     "source": [
      "Document Labels"
     ]
    },
    {
     "cell_type": "markdown",
     "metadata": {},
     "source": [
      "CorEx is a *discriminative* model, whereas LDA is a *generative* model. This means that while LDA outputs a probability distribution over each document, CorEx instead estimates the probability a document belongs to a topic given that document's words. As a result, the probabilities across topics for a given document do not have to add up to 1. The estimated probabilities of topics for each document can be accessed through **p_y_given_x**."
     ]
    },
    {
     "cell_type": "code",
     "collapsed": false,
     "input": [
      "print topic_model.p_y_given_x.shape # n_docs x k_topics"
     ],
     "language": "python",
     "metadata": {},
     "outputs": [
      {
       "output_type": "stream",
       "stream": "stdout",
       "text": [
        "(11314L, 50L)\n"
       ]
      }
     ],
     "prompt_number": 14
    },
    {
     "cell_type": "markdown",
     "metadata": {},
     "source": [
      "We can also use a softmax to make a binary determination of which documents belong to each topic. These softmax labels can be accessed through **labels**."
     ]
    },
    {
     "cell_type": "code",
     "collapsed": false,
     "input": [
      "print topic_model.labels.shape # n_docs x k_topics"
     ],
     "language": "python",
     "metadata": {},
     "outputs": [
      {
       "output_type": "stream",
       "stream": "stdout",
       "text": [
        "(11314L, 50L)\n"
       ]
      }
     ],
     "prompt_number": 15
    },
    {
     "cell_type": "markdown",
     "metadata": {},
     "source": [
      "Since CorEx does not prescribe a probability distribution of topics over each document, this means that a document could possibly belong to no topics (all 0's across topics in **labels**) or all topics (all 1's across topics in **labels**)."
     ]
    },
    {
     "cell_type": "heading",
     "level": 2,
     "metadata": {},
     "source": [
      "Total Correlation and Model Selection"
     ]
    },
    {
     "cell_type": "heading",
     "level": 3,
     "metadata": {},
     "source": [
      "Overall TC"
     ]
    },
    {
     "cell_type": "markdown",
     "metadata": {},
     "source": [
      "Total correlation is the measure which CorEx tries maximize when constructing the topic model. It can be accessed through **tc** and is reported in nats."
     ]
    },
    {
     "cell_type": "code",
     "collapsed": false,
     "input": [
      "topic_model.tc"
     ],
     "language": "python",
     "metadata": {},
     "outputs": [
      {
       "metadata": {},
       "output_type": "pyout",
       "prompt_number": 16,
       "text": [
        "46.261927990744361"
       ]
      }
     ],
     "prompt_number": 16
    },
    {
     "cell_type": "markdown",
     "metadata": {},
     "source": [
      "**Model selection:** CorEx starts its algorithm with a random initialization, and so different runs can result in different topic models. One way of finding a better topic model is to restart the CorEx algorithm several times and take the run that has the highest TC value (i.e. the run that produces topcis that are most informative about the documents)."
     ]
    },
    {
     "cell_type": "heading",
     "level": 3,
     "metadata": {},
     "source": [
      "Topic TC"
     ]
    },
    {
     "cell_type": "markdown",
     "metadata": {},
     "source": [
      "The overall total correlation is the sum of the total correlation per each topic. These can be accessed through **tcs**. Note the topic TCs are always sorted from high to low for unsupervised CorEx (this is not the case if anchoring is done)."
     ]
    },
    {
     "cell_type": "code",
     "collapsed": false,
     "input": [
      "topic_model.tcs.shape # k_topics"
     ],
     "language": "python",
     "metadata": {},
     "outputs": [
      {
       "metadata": {},
       "output_type": "pyout",
       "prompt_number": 17,
       "text": [
        "(50L,)"
       ]
      }
     ],
     "prompt_number": 17
    },
    {
     "cell_type": "code",
     "collapsed": false,
     "input": [
      "print np.sum(topic_model.tcs)\n",
      "print topic_model.tc"
     ],
     "language": "python",
     "metadata": {},
     "outputs": [
      {
       "output_type": "stream",
       "stream": "stdout",
       "text": [
        "46.2619279907\n",
        "46.2619279907\n"
       ]
      }
     ],
     "prompt_number": 18
    },
    {
     "cell_type": "markdown",
     "metadata": {},
     "source": [
      "**Selecting number of topics:** one way to choose topics is to observe the distribution of TCs for each topic to see how much each additional topic contributes to the overall TC. We should keep adding topics until additional topics do not significantly add to the overall TC. This is similar to choosing a cutoff eigenvalue when doing topic modeling via LSA."
     ]
    },
    {
     "cell_type": "code",
     "collapsed": false,
     "input": [
      "plt.bar(range(topic_model.tcs.shape[0]), topic_model.tcs, color = '#f29fe4', width = 0.6)\n",
      "plt.xlabel('Topic', fontsize = 16)\n",
      "plt.ylabel('Total Correlation (nats)', fontsize = 16)"
     ],
     "language": "python",
     "metadata": {},
     "outputs": [
      {
       "metadata": {},
       "output_type": "pyout",
       "prompt_number": 19,
       "text": [
        "<matplotlib.text.Text at 0x11724080>"
       ]
      },
      {
       "metadata": {},
       "output_type": "display_data",
       "png": "[encoded data removed]",
       "text": [
        "<matplotlib.figure.Figure at 0x11bba358>"
       ]
      }
     ],
     "prompt_number": 19
    },
    {
     "cell_type": "heading",
     "level": 3,
     "metadata": {},
     "source": [
      "Pointwise Document TC"
     ]
    },
    {
     "cell_type": "markdown",
     "metadata": {},
     "source": [
      "We can decompose total correlation further. The topic correlation is the average of the pointwise total correlations for each individual document. The pointwise total correlations can be accessed through **log_z**."
     ]
    },
    {
     "cell_type": "code",
     "collapsed": false,
     "input": [
      "topic_model.log_z.shape # n_docs x k_topics"
     ],
     "language": "python",
     "metadata": {},
     "outputs": [
      {
       "metadata": {},
       "output_type": "pyout",
       "prompt_number": 20,
       "text": [
        "(11314L, 50L)"
       ]
      }
     ],
     "prompt_number": 20
    },
    {
     "cell_type": "code",
     "collapsed": false,
     "input": [
      "print np.mean(topic_model.log_z, axis = 0)\n",
      "print topic_model.tcs"
     ],
     "language": "python",
     "metadata": {},
     "outputs": [
      {
       "output_type": "stream",
       "stream": "stdout",
       "text": [
        "[ 5.50936875  1.71880547  1.52174746  1.48466938  1.42693583  1.29085193\n",
        "  1.26609881  1.1708247   1.16042462  1.13640408  1.07429588  1.05070165\n",
        "  1.03974055  1.01012143  1.00165842  0.96016033  0.95542024  0.87962434\n",
        "  0.87349373  0.86021641  0.84504486  0.83115173  0.78774316  0.78638255\n",
        "  0.77723307  0.77611457  0.75923648  0.75624978  0.75302028  0.74406531\n",
        "  0.73381027  0.72874046  0.72664691  0.70655913  0.69218346  0.65247412\n",
        "  0.64374397  0.64284665  0.64184489  0.63527819  0.54535081  0.54242174\n",
        "  0.46340101  0.45849674  0.45766116  0.44362281  0.37530433  0.36277463\n",
        "  0.30876452  0.29219639]\n",
        "[ 5.50936875  1.71880547  1.52174746  1.48466938  1.42693583  1.29085193\n",
        "  1.26609881  1.1708247   1.16042462  1.13640408  1.07429588  1.05070165\n",
        "  1.03974055  1.01012143  1.00165842  0.96016033  0.95542024  0.87962434\n",
        "  0.87349373  0.86021641  0.84504486  0.83115173  0.78774316  0.78638255\n",
        "  0.77723307  0.77611457  0.75923648  0.75624978  0.75302028  0.74406531\n",
        "  0.73381027  0.72874046  0.72664691  0.70655913  0.69218346  0.65247412\n",
        "  0.64374397  0.64284665  0.64184489  0.63527819  0.54535081  0.54242174\n",
        "  0.46340101  0.45849674  0.45766116  0.44362281  0.37530433  0.36277463\n",
        "  0.30876452  0.29219639]\n"
       ]
      }
     ],
     "prompt_number": 21
    },
    {
     "cell_type": "markdown",
     "metadata": {},
     "source": [
      "These values represent the correlations explained by a topic for an individual document."
     ]
    },
    {
     "cell_type": "heading",
     "level": 2,
     "metadata": {},
     "source": [
      "Hierarchical Topic Models"
     ]
    },
    {
     "cell_type": "markdown",
     "metadata": {},
     "source": [
      "We can naturally repeat the CorEx algorithm on the topics to get latent representations of the topics themselves. This yields a hierarchical CorEx topic model. Like the first layer of the topic model, one can determine the number of latent variables to add in higher layers through examination of the topic TCs."
     ]
    },
    {
     "cell_type": "code",
     "collapsed": false,
     "input": [
      "# Train a second layer to the topic model\n",
      "tm_layer2 = ct.Corex(n_hidden=10)\n",
      "tm_layer2.fit(topic_model.labels);\n",
      "\n",
      "# Train a third layer to the topic model\n",
      "tm_layer3 = ct.Corex(n_hidden=1)\n",
      "tm_layer3.fit(tm_layer2.labels);"
     ],
     "language": "python",
     "metadata": {},
     "outputs": [
      {
       "output_type": "stream",
       "stream": "stdout",
       "text": [
        "WARNING: Some words never appear (or always appear)\n"
       ]
      }
     ],
     "prompt_number": 22
    },
    {
     "cell_type": "markdown",
     "metadata": {},
     "source": [
      "If you have graphviz installed, then you can output visualizations of the hierarchial topic model to your current working directory. One can also create custom visualizations of the hierarchy by properly making use of the **labels** attribute of each layer."
     ]
    },
    {
     "cell_type": "code",
     "collapsed": false,
     "input": [
      "vt.vis_hierarchy([topic_model, tm_layer2, tm_layer3], column_label=starred_words, max_edges=200, prefix='topic-model-example')"
     ],
     "language": "python",
     "metadata": {},
     "outputs": []
    },
    {
     "cell_type": "heading",
     "level": 2,
     "metadata": {},
     "source": [
      "Anchoring for Semi-Supervised Topic Modeling"
     ]
    },
    {
     "cell_type": "markdown",
     "metadata": {},
     "source": [
      "Anchored CorEx is an extension of CorEx that allows the \"anchoring\" of words to topics. When anchoring a word to a topic, CorEx is trying to maximize the mutual information between that word and the anchored topic. So, anchoring provides a way to guide the topic model towards specific subsets of words that the user would like to explore. The anchoring mechanism is flexible, and so there are many possibilities of anchoring:\n",
      "+ anchoring one word to one topic\n",
      "+ anchoring a group of words to one topic\n",
      "+ anchoring one word to multiple topics\n",
      "+ anchoring multiple groups of words to individual topics\n",
      "+ anchoring to some topics and not others\n",
      "\n",
      "We'll demonstrate how easy it is to anchor the CorEx topic model."
     ]
    },
    {
     "cell_type": "code",
     "collapsed": false,
     "input": [
      "# Anchor one word to the first topic\n",
      "anchor_words = ['nasa']"
     ],
     "language": "python",
     "metadata": {},
     "outputs": [],
     "prompt_number": 24
    },
    {
     "cell_type": "code",
     "collapsed": false,
     "input": [
      "# Anchor the word 'nasa' to the first topic\n",
      "anchored_topic_model = ct.Corex(n_hidden=50)\n",
      "anchored_topic_model.fit(doc_word, words=words, anchors=anchor_words, anchor_strength=6);"
     ],
     "language": "python",
     "metadata": {},
     "outputs": [],
     "prompt_number": 25
    },
    {
     "cell_type": "markdown",
     "metadata": {},
     "source": [
      "This anchors the single word \"nasa\" to the first topic."
     ]
    },
    {
     "cell_type": "code",
     "collapsed": false,
     "input": [
      "topic_words,_ = zip(*anchored_topic_model.get_topics(topic=0))\n",
      "print '0:' + ','.join(topic_words)"
     ],
     "language": "python",
     "metadata": {},
     "outputs": [
      {
       "output_type": "stream",
       "stream": "stdout",
       "text": [
        "0:nasa,space,gov,center,published,organization,addition,independent,march,institute\n"
       ]
      }
     ],
     "prompt_number": 26
    },
    {
     "cell_type": "markdown",
     "metadata": {},
     "source": [
      "We can anchor multiple groups of words to multiple topics as well."
     ]
    },
    {
     "cell_type": "code",
     "collapsed": false,
     "input": [
      "# Anchor 'nasa' and 'space' to first topic, 'sports' and 'stadium' to second topic, so on...\n",
      "anchor_words = [['nasa', 'space'], ['sports', 'stadium'], ['politics', 'government'], ['love', 'hope']]\n",
      "\n",
      "anchored_topic_model = ct.Corex(n_hidden=50)\n",
      "anchored_topic_model.fit(doc_word, words=words, anchors=anchor_words, anchor_strength=6);"
     ],
     "language": "python",
     "metadata": {},
     "outputs": [],
     "prompt_number": 27
    },
    {
     "cell_type": "code",
     "collapsed": false,
     "input": [
      "for n in range(len(anchor_words)):\n",
      "    topic_words,_ = zip(*anchored_topic_model.get_topics(topic=n))\n",
      "    print '{}: '.format(n) + ','.join(topic_words)"
     ],
     "language": "python",
     "metadata": {},
     "outputs": [
      {
       "output_type": "stream",
       "stream": "stdout",
       "text": [
        "0: space,nasa,orbit,gov,shuttle,launch,moon,earth,lunar,ames\n",
        "1: sports,stadium,team,game,season,players,play,league,games,hockey"
       ]
      },
      {
       "output_type": "stream",
       "stream": "stdout",
       "text": [
        "\n",
        "2: government,politics,law,state,rights,war,country,military,states,united"
       ]
      },
      {
       "output_type": "stream",
       "stream": "stdout",
       "text": [
        "\n",
        "3: hope,love,helps,rit,ultb,relates,virile,tatoos,sustaining,snm6394"
       ]
      },
      {
       "output_type": "stream",
       "stream": "stdout",
       "text": [
        "\n"
       ]
      }
     ],
     "prompt_number": 28
    },
    {
     "cell_type": "markdown",
     "metadata": {},
     "source": [
      "Note, in the above topic model, topics will no longer be sorted according to descending TC. Instead, the first topic will be the one with \"nasa\" and \"space\" anchored to it, the second topic will be the one with \"sports\" and \"stadium\" anchored to it, and so on.\n",
      "\n",
      "We can continue to develop even more complicated anchoring strategies. Here we anchor \"nasa\" by itself, as well as in two other topics each with \"politics\" and \"news\" to find different aspects around the word \"nasa\". We also create a fourth anchoring of \"happy\" and \"love\" to a topic."
     ]
    },
    {
     "cell_type": "code",
     "collapsed": false,
     "input": [
      "# Anchor with single words and groups of words\n",
      "anchor_words = ['nasa', ['nasa', 'politics'], ['nasa', 'news'], ['happy', 'love']]\n",
      "\n",
      "anchored_topic_model = ct.Corex(n_hidden=50)\n",
      "anchored_topic_model.fit(doc_word, words=words, anchors=anchor_words, anchor_strength=6);"
     ],
     "language": "python",
     "metadata": {},
     "outputs": [],
     "prompt_number": 29
    },
    {
     "cell_type": "code",
     "collapsed": false,
     "input": [
      "for n in range(len(anchor_words)):\n",
      "    topic_words,_ = zip(*anchored_topic_model.get_topics(topic=n))\n",
      "    print '{}: '.format(n) + ','.join(topic_words)"
     ],
     "language": "python",
     "metadata": {},
     "outputs": [
      {
       "output_type": "stream",
       "stream": "stdout",
       "text": [
        "0: nasa,space,orbit,launch,shuttle,earth,moon,lunar,satellite,mission\n",
        "1: nasa,politics,gov,ames,shafer,dryden,jet,balls,iftccu,gothamcity"
       ]
      },
      {
       "output_type": "stream",
       "stream": "stdout",
       "text": [
        "\n",
        "2: news,nasa,insisting,pasadena,advertising,edwards,hal,nbc,llnl,exploiting"
       ]
      },
      {
       "output_type": "stream",
       "stream": "stdout",
       "text": [
        "\n",
        "3: love,happy,tatoos,virile,relates,wicked,whosoever,wilt,mozumder,canal"
       ]
      },
      {
       "output_type": "stream",
       "stream": "stdout",
       "text": [
        "\n"
       ]
      }
     ],
     "prompt_number": 30
    },
    {
     "cell_type": "markdown",
     "metadata": {},
     "source": [
      "**Note:** If you do not specify the column labels through **words**, then you can still anchor by specifying the column indices of the features you wish to anchor on. You may also specify anchors using a mix of strings and indices if desired."
     ]
    },
    {
     "cell_type": "markdown",
     "metadata": {},
     "source": [
      "**Choosing anchor strength:** the anchor strength controls how much weight CorEx puts towards maximizing the mutual information between the anchor words and their respective topics. Anchor strength should always be set at a value *greater than* 1, since setting anchor strength between 0 and 1 only recovers the unsupervised CorEx objective. Empirically, setting anchor strength from 1.5-3 seems to nudge the topic model towards the anchor words. Setting anchor strength >5 is strongly enforcing that the CorEx topic model find a topic associated with the anchor words.\n",
      "\n",
      "We encourage users to experiment with the anchor strength and determine what values are best for their needs."
     ]
    },
    {
     "cell_type": "heading",
     "level": 2,
     "metadata": {},
     "source": [
      "Other Output"
     ]
    },
    {
     "cell_type": "markdown",
     "metadata": {},
     "source": [
      "The *vis_topic* module provides support for outputting topics and visualizations of the CorEx topic model. The code below creates a results direcory named \"twenty\" in your working directory."
     ]
    },
    {
     "cell_type": "code",
     "collapsed": false,
     "input": [
      "vt.vis_rep(topic_model, column_label=words, prefix='twenty')"
     ],
     "language": "python",
     "metadata": {},
     "outputs": []
    }
   ],
   "metadata": {}
  }
 ]
}